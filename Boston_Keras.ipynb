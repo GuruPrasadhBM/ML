{
  "nbformat": 4,
  "nbformat_minor": 0,
  "metadata": {
    "colab": {
      "name": "Boston_Keras.ipynb",
      "provenance": [],
      "collapsed_sections": [],
      "authorship_tag": "ABX9TyMvTkMypXVWR1h+SVkPFgf+",
      "include_colab_link": true
    },
    "kernelspec": {
      "name": "python3",
      "display_name": "Python 3"
    }
  },
  "cells": [
    {
      "cell_type": "markdown",
      "metadata": {
        "id": "view-in-github",
        "colab_type": "text"
      },
      "source": [
        "<a href=\"https://colab.research.google.com/github/GuruPrasadhBM/ML/blob/master/Boston_Keras.ipynb\" target=\"_parent\"><img src=\"https://colab.research.google.com/assets/colab-badge.svg\" alt=\"Open In Colab\"/></a>"
      ]
    },
    {
      "cell_type": "code",
      "metadata": {
        "id": "2JPdZh5dt60O",
        "colab_type": "code",
        "colab": {}
      },
      "source": [
        ""
      ],
      "execution_count": 0,
      "outputs": []
    },
    {
      "cell_type": "markdown",
      "metadata": {
        "id": "3KRmcZlby4Vx",
        "colab_type": "text"
      },
      "source": [
        "# Load Tensorflow"
      ]
    },
    {
      "cell_type": "code",
      "metadata": {
        "id": "CZtkbRcRzBYN",
        "colab_type": "code",
        "colab": {}
      },
      "source": [
        "#!pip install -U tensorflow==2.0.0 -quiet\n",
        "!pip install -U Tensorflow==2.0.0 --quiet"
      ],
      "execution_count": 0,
      "outputs": []
    },
    {
      "cell_type": "code",
      "metadata": {
        "id": "OEu-I0GpzGKh",
        "colab_type": "code",
        "colab": {}
      },
      "source": [
        "import tensorflow as tf\n",
        "from sklearn.preprocessing import Normalizer"
      ],
      "execution_count": 0,
      "outputs": []
    },
    {
      "cell_type": "code",
      "metadata": {
        "id": "UAtRETjKzQCl",
        "colab_type": "code",
        "colab": {}
      },
      "source": [
        ""
      ],
      "execution_count": 0,
      "outputs": []
    },
    {
      "cell_type": "markdown",
      "metadata": {
        "id": "Ma5xoUn297zD",
        "colab_type": "text"
      },
      "source": [
        "Collect Data"
      ]
    },
    {
      "cell_type": "code",
      "metadata": {
        "id": "wAKIgWTI9-J9",
        "colab_type": "code",
        "colab": {}
      },
      "source": [
        "(train_X, train_y),(_,_)= tf.keras.datasets.boston_housing.load_data(test_split=0)"
      ],
      "execution_count": 0,
      "outputs": []
    },
    {
      "cell_type": "code",
      "metadata": {
        "id": "jJwoTEtD-gdk",
        "colab_type": "code",
        "colab": {}
      },
      "source": [
        "train_X = train_X.astype('float32')\n",
        "train_y =train_y.astype('float32')"
      ],
      "execution_count": 0,
      "outputs": []
    },
    {
      "cell_type": "code",
      "metadata": {
        "id": "yXLKgQ48_gH8",
        "colab_type": "code",
        "colab": {
          "base_uri": "https://localhost:8080/",
          "height": 67
        },
        "outputId": "2c0f4bb6-c745-4984-e1bf-6bf8d41ea573"
      },
      "source": [
        "transformer= Normalizer()\n",
        "train_X = transformer.fit_transform(train_X)\n",
        "train_X[0]"
      ],
      "execution_count": 5,
      "outputs": [
        {
          "output_type": "execute_result",
          "data": {
            "text/plain": [
              "array([0.0024119 , 0.        , 0.01592969, 0.        , 0.00105285,\n",
              "       0.01201967, 0.17945358, 0.00778265, 0.00782786, 0.60078794,\n",
              "       0.04109624, 0.776719  , 0.03663436], dtype=float32)"
            ]
          },
          "metadata": {
            "tags": []
          },
          "execution_count": 5
        }
      ]
    },
    {
      "cell_type": "markdown",
      "metadata": {
        "id": "5yYbnT26_zWG",
        "colab_type": "text"
      },
      "source": [
        "Model Building with Keras"
      ]
    },
    {
      "cell_type": "code",
      "metadata": {
        "id": "E2YBSN0EAIZn",
        "colab_type": "code",
        "colab": {}
      },
      "source": [
        "#Initialize Sequential Graph\n",
        "model = tf.keras.Sequential()\n",
        "\n",
        "#Add dense layer for prediction - Keras declares weights and bias automatically\n",
        "model.add(tf.keras.layers.Dense(1, input_shape=(13,)))\n",
        "\n",
        "#Compile the model. Add loss and gradientdescent optimizer\n",
        "model.compile(optimizer=\"sgd\",loss=\"mse\")"
      ],
      "execution_count": 0,
      "outputs": []
    },
    {
      "cell_type": "code",
      "metadata": {
        "id": "u7_D8RiWBoQy",
        "colab_type": "code",
        "colab": {}
      },
      "source": [
        ""
      ],
      "execution_count": 0,
      "outputs": []
    },
    {
      "cell_type": "markdown",
      "metadata": {
        "id": "s_U903E3B83A",
        "colab_type": "text"
      },
      "source": [
        "Execute the model/graph"
      ]
    },
    {
      "cell_type": "code",
      "metadata": {
        "id": "EaosGZ6SCAPW",
        "colab_type": "code",
        "colab": {
          "base_uri": "https://localhost:8080/",
          "height": 1000
        },
        "outputId": "31da514f-dbaf-41f7-d7b4-e807c39677b0"
      },
      "source": [
        "model.fit(train_X, train_y, epochs=100)\n"
      ],
      "execution_count": 7,
      "outputs": [
        {
          "output_type": "stream",
          "text": [
            "Train on 506 samples\n",
            "Epoch 1/100\n",
            "506/506 [==============================] - 0s 851us/sample - loss: 401.9525\n",
            "Epoch 2/100\n",
            "506/506 [==============================] - 0s 51us/sample - loss: 174.0054\n",
            "Epoch 3/100\n",
            "506/506 [==============================] - 0s 51us/sample - loss: 107.4657\n",
            "Epoch 4/100\n",
            "506/506 [==============================] - 0s 45us/sample - loss: 87.6836\n",
            "Epoch 5/100\n",
            "506/506 [==============================] - 0s 49us/sample - loss: 81.5793\n",
            "Epoch 6/100\n",
            "506/506 [==============================] - 0s 45us/sample - loss: 79.4480\n",
            "Epoch 7/100\n",
            "506/506 [==============================] - 0s 53us/sample - loss: 78.4013\n",
            "Epoch 8/100\n",
            "506/506 [==============================] - 0s 54us/sample - loss: 77.7697\n",
            "Epoch 9/100\n",
            "506/506 [==============================] - 0s 51us/sample - loss: 77.1958\n",
            "Epoch 10/100\n",
            "506/506 [==============================] - 0s 47us/sample - loss: 76.6130\n",
            "Epoch 11/100\n",
            "506/506 [==============================] - 0s 47us/sample - loss: 76.1343\n",
            "Epoch 12/100\n",
            "506/506 [==============================] - 0s 55us/sample - loss: 75.6783\n",
            "Epoch 13/100\n",
            "506/506 [==============================] - 0s 50us/sample - loss: 75.2109\n",
            "Epoch 14/100\n",
            "506/506 [==============================] - 0s 49us/sample - loss: 74.7465\n",
            "Epoch 15/100\n",
            "506/506 [==============================] - 0s 54us/sample - loss: 74.3129\n",
            "Epoch 16/100\n",
            "506/506 [==============================] - 0s 60us/sample - loss: 73.8928\n",
            "Epoch 17/100\n",
            "506/506 [==============================] - 0s 44us/sample - loss: 73.4972\n",
            "Epoch 18/100\n",
            "506/506 [==============================] - 0s 51us/sample - loss: 73.1108\n",
            "Epoch 19/100\n",
            "506/506 [==============================] - 0s 55us/sample - loss: 72.7465\n",
            "Epoch 20/100\n",
            "506/506 [==============================] - 0s 52us/sample - loss: 72.3888\n",
            "Epoch 21/100\n",
            "506/506 [==============================] - 0s 51us/sample - loss: 72.0875\n",
            "Epoch 22/100\n",
            "506/506 [==============================] - 0s 47us/sample - loss: 71.7573\n",
            "Epoch 23/100\n",
            "506/506 [==============================] - 0s 57us/sample - loss: 71.4370\n",
            "Epoch 24/100\n",
            "506/506 [==============================] - 0s 54us/sample - loss: 71.1619\n",
            "Epoch 25/100\n",
            "506/506 [==============================] - 0s 64us/sample - loss: 70.8586\n",
            "Epoch 26/100\n",
            "506/506 [==============================] - 0s 59us/sample - loss: 70.5841\n",
            "Epoch 27/100\n",
            "506/506 [==============================] - 0s 46us/sample - loss: 70.3840\n",
            "Epoch 28/100\n",
            "506/506 [==============================] - 0s 54us/sample - loss: 70.1035\n",
            "Epoch 29/100\n",
            "506/506 [==============================] - 0s 52us/sample - loss: 69.8346\n",
            "Epoch 30/100\n",
            "506/506 [==============================] - 0s 48us/sample - loss: 69.5872\n",
            "Epoch 31/100\n",
            "506/506 [==============================] - 0s 54us/sample - loss: 69.3899\n",
            "Epoch 32/100\n",
            "506/506 [==============================] - 0s 52us/sample - loss: 69.1682\n",
            "Epoch 33/100\n",
            "506/506 [==============================] - 0s 45us/sample - loss: 68.9634\n",
            "Epoch 34/100\n",
            "506/506 [==============================] - 0s 58us/sample - loss: 68.7915\n",
            "Epoch 35/100\n",
            "506/506 [==============================] - 0s 52us/sample - loss: 68.6236\n",
            "Epoch 36/100\n",
            "506/506 [==============================] - 0s 56us/sample - loss: 68.3665\n",
            "Epoch 37/100\n",
            "506/506 [==============================] - 0s 58us/sample - loss: 68.1918\n",
            "Epoch 38/100\n",
            "506/506 [==============================] - 0s 49us/sample - loss: 68.0596\n",
            "Epoch 39/100\n",
            "506/506 [==============================] - 0s 76us/sample - loss: 67.8902\n",
            "Epoch 40/100\n",
            "506/506 [==============================] - 0s 64us/sample - loss: 67.7016\n",
            "Epoch 41/100\n",
            "506/506 [==============================] - 0s 49us/sample - loss: 67.5438\n",
            "Epoch 42/100\n",
            "506/506 [==============================] - 0s 56us/sample - loss: 67.4141\n",
            "Epoch 43/100\n",
            "506/506 [==============================] - 0s 49us/sample - loss: 67.2965\n",
            "Epoch 44/100\n",
            "506/506 [==============================] - 0s 59us/sample - loss: 67.1718\n",
            "Epoch 45/100\n",
            "506/506 [==============================] - 0s 51us/sample - loss: 67.0423\n",
            "Epoch 46/100\n",
            "506/506 [==============================] - 0s 57us/sample - loss: 66.9212\n",
            "Epoch 47/100\n",
            "506/506 [==============================] - 0s 50us/sample - loss: 66.8199\n",
            "Epoch 48/100\n",
            "506/506 [==============================] - 0s 67us/sample - loss: 66.6547\n",
            "Epoch 49/100\n",
            "506/506 [==============================] - 0s 54us/sample - loss: 66.5851\n",
            "Epoch 50/100\n",
            "506/506 [==============================] - 0s 50us/sample - loss: 66.5205\n",
            "Epoch 51/100\n",
            "506/506 [==============================] - 0s 50us/sample - loss: 66.3419\n",
            "Epoch 52/100\n",
            "506/506 [==============================] - 0s 54us/sample - loss: 66.2810\n",
            "Epoch 53/100\n",
            "506/506 [==============================] - 0s 54us/sample - loss: 66.1639\n",
            "Epoch 54/100\n",
            "506/506 [==============================] - 0s 52us/sample - loss: 66.0977\n",
            "Epoch 55/100\n",
            "506/506 [==============================] - 0s 66us/sample - loss: 65.9851\n",
            "Epoch 56/100\n",
            "506/506 [==============================] - 0s 58us/sample - loss: 65.9305\n",
            "Epoch 57/100\n",
            "506/506 [==============================] - 0s 51us/sample - loss: 65.8391\n",
            "Epoch 58/100\n",
            "506/506 [==============================] - 0s 51us/sample - loss: 65.7108\n",
            "Epoch 59/100\n",
            "506/506 [==============================] - 0s 50us/sample - loss: 65.6648\n",
            "Epoch 60/100\n",
            "506/506 [==============================] - 0s 49us/sample - loss: 65.5662\n",
            "Epoch 61/100\n",
            "506/506 [==============================] - 0s 48us/sample - loss: 65.5142\n",
            "Epoch 62/100\n",
            "506/506 [==============================] - 0s 54us/sample - loss: 65.4347\n",
            "Epoch 63/100\n",
            "506/506 [==============================] - 0s 49us/sample - loss: 65.3972\n",
            "Epoch 64/100\n",
            "506/506 [==============================] - 0s 44us/sample - loss: 65.3379\n",
            "Epoch 65/100\n",
            "506/506 [==============================] - 0s 54us/sample - loss: 65.2905\n",
            "Epoch 66/100\n",
            "506/506 [==============================] - 0s 46us/sample - loss: 65.1975\n",
            "Epoch 67/100\n",
            "506/506 [==============================] - 0s 50us/sample - loss: 65.1579\n",
            "Epoch 68/100\n",
            "506/506 [==============================] - 0s 46us/sample - loss: 65.1401\n",
            "Epoch 69/100\n",
            "506/506 [==============================] - 0s 51us/sample - loss: 65.0184\n",
            "Epoch 70/100\n",
            "506/506 [==============================] - 0s 51us/sample - loss: 64.9993\n",
            "Epoch 71/100\n",
            "506/506 [==============================] - 0s 51us/sample - loss: 64.9784\n",
            "Epoch 72/100\n",
            "506/506 [==============================] - 0s 46us/sample - loss: 64.8841\n",
            "Epoch 73/100\n",
            "506/506 [==============================] - 0s 53us/sample - loss: 64.8563\n",
            "Epoch 74/100\n",
            "506/506 [==============================] - 0s 48us/sample - loss: 64.8144\n",
            "Epoch 75/100\n",
            "506/506 [==============================] - 0s 46us/sample - loss: 64.7373\n",
            "Epoch 76/100\n",
            "506/506 [==============================] - 0s 48us/sample - loss: 64.6950\n",
            "Epoch 77/100\n",
            "506/506 [==============================] - 0s 43us/sample - loss: 64.6669\n",
            "Epoch 78/100\n",
            "506/506 [==============================] - 0s 56us/sample - loss: 64.6320\n",
            "Epoch 79/100\n",
            "506/506 [==============================] - 0s 45us/sample - loss: 64.5958\n",
            "Epoch 80/100\n",
            "506/506 [==============================] - 0s 45us/sample - loss: 64.5620\n",
            "Epoch 81/100\n",
            "506/506 [==============================] - 0s 59us/sample - loss: 64.5604\n",
            "Epoch 82/100\n",
            "506/506 [==============================] - 0s 55us/sample - loss: 64.5303\n",
            "Epoch 83/100\n",
            "506/506 [==============================] - 0s 51us/sample - loss: 64.4807\n",
            "Epoch 84/100\n",
            "506/506 [==============================] - 0s 47us/sample - loss: 64.4572\n",
            "Epoch 85/100\n",
            "506/506 [==============================] - 0s 44us/sample - loss: 64.4126\n",
            "Epoch 86/100\n",
            "506/506 [==============================] - 0s 48us/sample - loss: 64.3405\n",
            "Epoch 87/100\n",
            "506/506 [==============================] - 0s 49us/sample - loss: 64.3266\n",
            "Epoch 88/100\n",
            "506/506 [==============================] - 0s 47us/sample - loss: 64.3226\n",
            "Epoch 89/100\n",
            "506/506 [==============================] - 0s 46us/sample - loss: 64.2579\n",
            "Epoch 90/100\n",
            "506/506 [==============================] - 0s 49us/sample - loss: 64.2077\n",
            "Epoch 91/100\n",
            "506/506 [==============================] - 0s 51us/sample - loss: 64.2433\n",
            "Epoch 92/100\n",
            "506/506 [==============================] - 0s 53us/sample - loss: 64.1576\n",
            "Epoch 93/100\n",
            "506/506 [==============================] - 0s 50us/sample - loss: 64.1468\n",
            "Epoch 94/100\n",
            "506/506 [==============================] - 0s 50us/sample - loss: 64.1356\n",
            "Epoch 95/100\n",
            "506/506 [==============================] - 0s 51us/sample - loss: 64.1312\n",
            "Epoch 96/100\n",
            "506/506 [==============================] - 0s 49us/sample - loss: 64.1075\n",
            "Epoch 97/100\n",
            "506/506 [==============================] - 0s 51us/sample - loss: 64.0644\n",
            "Epoch 98/100\n",
            "506/506 [==============================] - 0s 57us/sample - loss: 64.0980\n",
            "Epoch 99/100\n",
            "506/506 [==============================] - 0s 44us/sample - loss: 64.0403\n",
            "Epoch 100/100\n",
            "506/506 [==============================] - 0s 45us/sample - loss: 63.9892\n"
          ],
          "name": "stdout"
        },
        {
          "output_type": "execute_result",
          "data": {
            "text/plain": [
              "<tensorflow.python.keras.callbacks.History at 0x7eff5a5e6710>"
            ]
          },
          "metadata": {
            "tags": []
          },
          "execution_count": 7
        }
      ]
    },
    {
      "cell_type": "code",
      "metadata": {
        "id": "hHGLfMCBCjsn",
        "colab_type": "code",
        "colab": {
          "base_uri": "https://localhost:8080/",
          "height": 185
        },
        "outputId": "161f85d1-0b15-48cc-c8f5-0aeed63e70de"
      },
      "source": [
        "model.summary()\n"
      ],
      "execution_count": 8,
      "outputs": [
        {
          "output_type": "stream",
          "text": [
            "Model: \"sequential\"\n",
            "_________________________________________________________________\n",
            "Layer (type)                 Output Shape              Param #   \n",
            "=================================================================\n",
            "dense (Dense)                (None, 1)                 14        \n",
            "=================================================================\n",
            "Total params: 14\n",
            "Trainable params: 14\n",
            "Non-trainable params: 0\n",
            "_________________________________________________________________\n"
          ],
          "name": "stdout"
        }
      ]
    }
  ]
}