{
 "cells": [
  {
   "cell_type": "markdown",
   "metadata": {},
   "source": [
    "This basic exercise explains about Exploratory Data Analysis done on the Auto MPG Dataset. This I tried as part of my PGPAIML\n",
    "\n",
    "Dataset Link : https://archive.ics.uci.edu/ml/datasets/auto+mpg\n"
   ]
  }
 ],
 "metadata": {
  "kernelspec": {
   "display_name": "Python 3",
   "language": "python",
   "name": "python3"
  },
  "language_info": {
   "codemirror_mode": {
    "name": "ipython",
    "version": 3
   },
   "file_extension": ".py",
   "mimetype": "text/x-python",
   "name": "python",
   "nbconvert_exporter": "python",
   "pygments_lexer": "ipython3",
   "version": "3.7.4"
  }
 },
 "nbformat": 4,
 "nbformat_minor": 2
}
